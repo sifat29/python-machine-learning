{
 "cells": [
  {
   "cell_type": "code",
   "execution_count": 16,
   "id": "81233336",
   "metadata": {},
   "outputs": [
    {
     "name": "stdout",
     "output_type": "stream",
     "text": [
      "For k = 0 distance= 0.011314880636032143\n",
      "Label: 0\n",
      "For k = 1 distance= 0.054613186396377245\n",
      "Label: 1\n",
      "For k = 2 distance= 0.06872446539721899\n",
      "Label: 2\n",
      "For k = 3 distance= 0.07741909135452829\n",
      "Label: 3\n",
      "For k = 4 distance= 0.077962778420261\n",
      "Label: 4\n",
      "The random species level: 0\n"
     ]
    }
   ],
   "source": [
    "import math\n",
    "from sklearn import datasets\n",
    "\n",
    "db= datasets.load_iris()\n",
    "x=db.data\n",
    "y=db.target\n",
    "random_point = (6.2 ,3.4 ,5.4 ,2.3)\n",
    "rand_distance= math.sqrt(pow(6.2,2)+pow(3.4,2)+pow(5.5,2)+pow(2.4,2))\n",
    "distances = []\n",
    "value=[[0]*200]*2\n",
    "def point():\n",
    "    distance=[0]*100\n",
    "    for val in range(len(x)-1):\n",
    "        euclidean_distance = math.sqrt(pow(x[val][0],2)+pow(x[val][1],2)+pow(x[val][2],2)+pow(x[val][3],2))\n",
    "        distances.append((euclidean_distance))\n",
    "        if val<50:\n",
    "            value[0][val]=euclidean_distance\n",
    "        elif val>50 & val<100:\n",
    "            value[1][val]=euclidean_distance\n",
    "        elif val>100:\n",
    "            value[2][val]=euclidean_distance\n",
    "point()    \n",
    "distances = sorted(distances)\n",
    "dt=0\n",
    "while dt<149:\n",
    "    distances[dt]=abs(rand_distance-distances[dt])\n",
    "    dt=dt+1\n",
    "distances = sorted(distances)\n",
    "k=0;\n",
    "while k<5:\n",
    "    print(\"For k =\", k , \"distance=\",distances[k])\n",
    "    print(\"Label:\",distances.index(distances[k]))\n",
    "    k=k+1\n",
    "species1 = 0 \n",
    "species2 = 0 \n",
    "species3 = 0 \n",
    "\n",
    "for d in range(len(distances)):\n",
    "        if distances[d] < 50:\n",
    "            species1 += 1\n",
    "        elif distances[d] > 50 and distances[d] < 100:\n",
    "            species2 += 1\n",
    "        else:\n",
    "            species3 += 1\n",
    "      \n",
    "if species1 > species2 and species1 > species3:\n",
    "        print(\"The random species level: 0\")\n",
    "elif species2 > species1 and species2 > species3:\n",
    "        print(\"The random species level: 1\")\n",
    "else:\n",
    "        print(\"The random species level: 2\")\n",
    "\n"
   ]
  },
  {
   "cell_type": "code",
   "execution_count": null,
   "id": "a0c5d1b3",
   "metadata": {},
   "outputs": [],
   "source": []
  }
 ],
 "metadata": {
  "kernelspec": {
   "display_name": "Python 3",
   "language": "python",
   "name": "python3"
  },
  "language_info": {
   "codemirror_mode": {
    "name": "ipython",
    "version": 3
   },
   "file_extension": ".py",
   "mimetype": "text/x-python",
   "name": "python",
   "nbconvert_exporter": "python",
   "pygments_lexer": "ipython3",
   "version": "3.8.8"
  }
 },
 "nbformat": 4,
 "nbformat_minor": 5
}
