{
 "cells": [
  {
   "cell_type": "code",
   "execution_count": 35,
   "metadata": {
    "id": "LYo2FVS5mrih"
   },
   "outputs": [],
   "source": [
    "import random\n",
    "import math"
   ]
  },
  {
   "cell_type": "code",
   "execution_count": 36,
   "metadata": {
    "colab": {
     "base_uri": "https://localhost:8080/"
    },
    "id": "VwgpojTT98fq",
    "outputId": "b21218f0-cd00-414b-d25a-811f4b3ab67b"
   },
   "outputs": [
    {
     "name": "stdout",
     "output_type": "stream",
     "text": [
      "[[1, 5], [1, 4], [3, 2], [4, 4], [5, 4], [6, 1]]\n"
     ]
    }
   ],
   "source": [
    "points = [[1, 5], [1, 4], [3, 2], [4, 4], [5, 4], [6, 1]]\n",
    "print(points)"
   ]
  },
  {
   "cell_type": "code",
   "execution_count": 44,
   "metadata": {
    "colab": {
     "base_uri": "https://localhost:8080/"
    },
    "id": "G8e7BZvzLV7A",
    "outputId": "beb730c3-a1ac-4a1d-fef3-ad209566491d"
   },
   "outputs": [
    {
     "name": "stdout",
     "output_type": "stream",
     "text": [
      "[[3, 2], [4, 3]]\n"
     ]
    }
   ],
   "source": [
    "k = 2\n",
    "centroids = []\n",
    "for _ in range(k):\n",
    "  centroids.append(random.sample(range(1, 5), k))\n",
    "\n",
    "print(centroids)"
   ]
  },
  {
   "cell_type": "code",
   "execution_count": 45,
   "metadata": {
    "colab": {
     "base_uri": "https://localhost:8080/"
    },
    "id": "DPIFXtn7NQLc",
    "outputId": "de03a74a-9a08-4fdd-f1b0-a292b0e5c360"
   },
   "outputs": [
    {
     "name": "stdout",
     "output_type": "stream",
     "text": [
      "After the 1 iteration: \n",
      "1st Centroid: [[1, 4], [3, 2]]\n",
      "2nd Centroid: [[1, 5], [4, 4], [5, 4], [6, 1]]\n",
      "After the 2 iteration: \n",
      "1st Centroid: [[1, 5], [1, 4], [3, 2]]\n",
      "2nd Centroid: [[4, 4], [5, 4], [6, 1]]\n"
     ]
    }
   ],
   "source": [
    "c1 = []\n",
    "c2 = []\n",
    "\n",
    "for t in range(k):\n",
    "  for i in range(6):\n",
    "    x = ((centroids[0][0] - points[i][0]) * (centroids[0][0] - points[i][0]))\n",
    "    y = ((centroids[0][1] - points[i][1]) * (centroids[0][1] - points[i][1]))\n",
    "    tot = math.sqrt(x + y)\n",
    "\n",
    "    x1 = ((centroids[1][0] - points[i][0]) * (centroids[1][0] - points[i][0]))\n",
    "    y1 = ((centroids[1][1] - points[i][1]) * (centroids[1][1] - points[i][1]))\n",
    "    tot1 = math.sqrt(x1 + y1)\n",
    "\n",
    "    if tot < tot1:\n",
    "      c1.append([points[i][0], points[i][1]])\n",
    "    else:\n",
    "      c2.append([points[i][0], points[i][1]])\n",
    "\n",
    "  print(\"After the\", t + 1, \"iteration: \")\n",
    "  print(\"1st Centroid:\", c1)\n",
    "  print(\"2nd Centroid:\", c2)\n",
    "\n",
    "  xsum = 0\n",
    "  xsum1 = 0\n",
    "  for i in range(len(c1)):\n",
    "    xsum += c1[i][0]\n",
    "    xsum1 += c1[i][1]\n",
    "\n",
    "  ysum = 0\n",
    "  ysum1 = 0\n",
    "  for i in range(len(c2)):\n",
    "    ysum += c2[i][0]\n",
    "    ysum1 += c2[i][0]\n",
    "\n",
    "  centroids[0][0] = xsum / len(c1)\n",
    "  centroids[0][1] = xsum1 / len(c1)\n",
    "\n",
    "  centroids[1][0] = ysum / len(c2)\n",
    "  centroids[1][1] = ysum1 / len(c2)\n",
    "\n",
    "  c1.clear()\n",
    "  c2.clear()"
   ]
  }
 ],
 "metadata": {
  "colab": {
   "name": "191014033.ipynb",
   "provenance": []
  },
  "kernelspec": {
   "display_name": "Python 3 (ipykernel)",
   "language": "python",
   "name": "python3"
  },
  "language_info": {
   "codemirror_mode": {
    "name": "ipython",
    "version": 3
   },
   "file_extension": ".py",
   "mimetype": "text/x-python",
   "name": "python",
   "nbconvert_exporter": "python",
   "pygments_lexer": "ipython3",
   "version": "3.8.10"
  }
 },
 "nbformat": 4,
 "nbformat_minor": 1
}
